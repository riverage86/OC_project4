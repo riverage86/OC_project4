{
 "cells": [
  {
   "cell_type": "code",
   "execution_count": 1,
   "id": "5083a1e6",
   "metadata": {},
   "outputs": [
    {
     "name": "stdout",
     "output_type": "stream",
     "text": [
      "Requirement already satisfied: pyarrow in c:\\users\\utilisateur\\anaconda3\\lib\\site-packages (12.0.0)\n",
      "Requirement already satisfied: numpy>=1.16.6 in c:\\users\\utilisateur\\anaconda3\\lib\\site-packages (from pyarrow) (1.21.6)\n"
     ]
    },
    {
     "name": "stderr",
     "output_type": "stream",
     "text": [
      "WARNING: Ignoring invalid distribution -cipy (c:\\users\\utilisateur\\anaconda3\\lib\\site-packages)\n",
      "WARNING: Ignoring invalid distribution -atplotlib (c:\\users\\utilisateur\\anaconda3\\lib\\site-packages)\n",
      "WARNING: Ignoring invalid distribution -cipy (c:\\users\\utilisateur\\anaconda3\\lib\\site-packages)\n",
      "WARNING: Ignoring invalid distribution -atplotlib (c:\\users\\utilisateur\\anaconda3\\lib\\site-packages)\n",
      "WARNING: Ignoring invalid distribution -cipy (c:\\users\\utilisateur\\anaconda3\\lib\\site-packages)\n",
      "WARNING: Ignoring invalid distribution -atplotlib (c:\\users\\utilisateur\\anaconda3\\lib\\site-packages)\n",
      "WARNING: Ignoring invalid distribution -cipy (c:\\users\\utilisateur\\anaconda3\\lib\\site-packages)\n",
      "WARNING: Ignoring invalid distribution -atplotlib (c:\\users\\utilisateur\\anaconda3\\lib\\site-packages)\n",
      "WARNING: Ignoring invalid distribution -cipy (c:\\users\\utilisateur\\anaconda3\\lib\\site-packages)\n",
      "WARNING: Ignoring invalid distribution -atplotlib (c:\\users\\utilisateur\\anaconda3\\lib\\site-packages)\n",
      "WARNING: Ignoring invalid distribution -cipy (c:\\users\\utilisateur\\anaconda3\\lib\\site-packages)\n",
      "WARNING: Ignoring invalid distribution -atplotlib (c:\\users\\utilisateur\\anaconda3\\lib\\site-packages)\n"
     ]
    }
   ],
   "source": [
    "!pip install pyarrow"
   ]
  },
  {
   "cell_type": "code",
   "execution_count": 2,
   "id": "aaa3b51c",
   "metadata": {},
   "outputs": [],
   "source": [
    "import pandas as pd\n",
    "import numpy as np\n",
    "import warnings \n",
    "import matplotlib.pyplot as plt\n",
    "import seaborn as sns\n",
    "import pyarrow"
   ]
  },
  {
   "cell_type": "code",
   "execution_count": 3,
   "id": "224d93b5",
   "metadata": {},
   "outputs": [],
   "source": [
    "warnings.filterwarnings('ignore')"
   ]
  },
  {
   "cell_type": "markdown",
   "id": "b78d1943",
   "metadata": {},
   "source": [
    "# 1.1  Lectures des fichiers et merge "
   ]
  },
  {
   "cell_type": "code",
   "execution_count": 4,
   "id": "bed1bf6d",
   "metadata": {},
   "outputs": [],
   "source": [
    "df_customers = pd.read_csv('olist_customers_dataset.csv',  engine = 'python',  on_bad_lines = 'skip')\n",
    "df_orders = pd.read_csv('olist_orders_dataset.csv',  engine = 'python',  on_bad_lines = 'skip')\n",
    "df_orders_items = pd.read_csv('olist_order_items_dataset.csv',  engine = 'python',  on_bad_lines = 'skip')\n",
    "df_reviews = pd.read_csv('olist_order_reviews_dataset.csv',  engine = 'python',  on_bad_lines = 'skip')\n",
    "df_payments = pd.read_csv('olist_order_payments_dataset.csv',  engine = 'python',  on_bad_lines = 'skip')\n",
    "df_geo = pd.read_csv('olist_geolocation_dataset.csv',  engine = 'python',  on_bad_lines = 'skip')\n",
    "df_sellers = pd.read_csv('olist_sellers_dataset.csv',  engine = 'python',  on_bad_lines = 'skip')\n",
    "df_products = pd.read_csv('olist_products_dataset.csv',  engine = 'python',  on_bad_lines = 'skip')\n",
    "df_translate=  pd.read_csv('product_category_name_translation.csv',  engine = 'python',  on_bad_lines = 'skip')"
   ]
  },
  {
   "cell_type": "code",
   "execution_count": 5,
   "id": "9831c56f",
   "metadata": {},
   "outputs": [
    {
     "data": {
      "text/plain": [
       "0"
      ]
     },
     "execution_count": 5,
     "metadata": {},
     "output_type": "execute_result"
    }
   ],
   "source": [
    "df_customers['customer_id'].duplicated().sum()"
   ]
  },
  {
   "cell_type": "code",
   "execution_count": 6,
   "id": "270a5488",
   "metadata": {},
   "outputs": [
    {
     "data": {
      "text/plain": [
       "3345"
      ]
     },
     "execution_count": 6,
     "metadata": {},
     "output_type": "execute_result"
    }
   ],
   "source": [
    "df_customers['customer_unique_id'].duplicated().sum()"
   ]
  },
  {
   "cell_type": "code",
   "execution_count": 7,
   "id": "d5a591c8",
   "metadata": {},
   "outputs": [],
   "source": [
    "df_merged = pd.merge(df_customers, df_orders[[\"order_id\", \"customer_id\", \"order_status\",\"order_purchase_timestamp\"]], on='customer_id')\n"
   ]
  },
  {
   "cell_type": "code",
   "execution_count": 8,
   "id": "ec1ff328",
   "metadata": {},
   "outputs": [
    {
     "data": {
      "text/plain": [
       "(99441, 8)"
      ]
     },
     "execution_count": 8,
     "metadata": {},
     "output_type": "execute_result"
    }
   ],
   "source": [
    "df_merged.shape"
   ]
  },
  {
   "cell_type": "code",
   "execution_count": 9,
   "id": "4bad9f35",
   "metadata": {},
   "outputs": [],
   "source": [
    "#df_merged = pd.merge(df_merged, df_orders_items[[\"order_id\", \"order_item_id\", \"price\", \"product_id\", \"seller_id\"]], on='order_id')\n",
    "df_merged = pd.merge(df_merged, df_orders_items[[\"order_id\", \"price\", \"product_id\", \"seller_id\"]], on='order_id')"
   ]
  },
  {
   "cell_type": "code",
   "execution_count": 10,
   "id": "886601bc",
   "metadata": {},
   "outputs": [
    {
     "data": {
      "text/plain": [
       "Index(['customer_id', 'customer_unique_id', 'customer_zip_code_prefix',\n",
       "       'customer_city', 'customer_state', 'order_id', 'order_status',\n",
       "       'order_purchase_timestamp', 'price', 'product_id', 'seller_id'],\n",
       "      dtype='object')"
      ]
     },
     "execution_count": 10,
     "metadata": {},
     "output_type": "execute_result"
    }
   ],
   "source": [
    "df_merged.columns"
   ]
  },
  {
   "cell_type": "code",
   "execution_count": 11,
   "id": "c8440ac3",
   "metadata": {},
   "outputs": [],
   "source": [
    "df_merged = pd.merge(df_merged, df_reviews[[\"order_id\", \"review_id\", \"review_score\", \"review_creation_date\"]], on='order_id')"
   ]
  },
  {
   "cell_type": "code",
   "execution_count": 12,
   "id": "618c1503",
   "metadata": {},
   "outputs": [],
   "source": [
    "df_merged = pd.merge(df_merged, df_products[[\"product_id\", \"product_category_name\"]], on='product_id')"
   ]
  },
  {
   "cell_type": "code",
   "execution_count": 13,
   "id": "9aa2ce69",
   "metadata": {},
   "outputs": [],
   "source": [
    "df_merged = pd.merge(df_merged, df_sellers[[\"seller_id\", \"seller_city\"]], on='seller_id')"
   ]
  },
  {
   "cell_type": "code",
   "execution_count": 14,
   "id": "e07c59d2",
   "metadata": {},
   "outputs": [],
   "source": [
    "df_merged = pd.merge(df_merged, df_translate[[\"product_category_name\", \"product_category_name_english\"]], on='product_category_name')"
   ]
  },
  {
   "cell_type": "code",
   "execution_count": 15,
   "id": "ad1f9ceb",
   "metadata": {},
   "outputs": [
    {
     "data": {
      "text/plain": [
       "(110750, 17)"
      ]
     },
     "execution_count": 15,
     "metadata": {},
     "output_type": "execute_result"
    }
   ],
   "source": [
    "df_merged.shape"
   ]
  },
  {
   "cell_type": "code",
   "execution_count": 16,
   "id": "81f82fdf",
   "metadata": {},
   "outputs": [
    {
     "data": {
      "text/html": [
       "<div>\n",
       "<style scoped>\n",
       "    .dataframe tbody tr th:only-of-type {\n",
       "        vertical-align: middle;\n",
       "    }\n",
       "\n",
       "    .dataframe tbody tr th {\n",
       "        vertical-align: top;\n",
       "    }\n",
       "\n",
       "    .dataframe thead th {\n",
       "        text-align: right;\n",
       "    }\n",
       "</style>\n",
       "<table border=\"1\" class=\"dataframe\">\n",
       "  <thead>\n",
       "    <tr style=\"text-align: right;\">\n",
       "      <th></th>\n",
       "      <th>customer_zip_code_prefix</th>\n",
       "      <th>price</th>\n",
       "      <th>review_score</th>\n",
       "    </tr>\n",
       "  </thead>\n",
       "  <tbody>\n",
       "    <tr>\n",
       "      <th>count</th>\n",
       "      <td>110750.000000</td>\n",
       "      <td>110750.000000</td>\n",
       "      <td>110750.000000</td>\n",
       "    </tr>\n",
       "    <tr>\n",
       "      <th>mean</th>\n",
       "      <td>35123.682257</td>\n",
       "      <td>120.475691</td>\n",
       "      <td>4.035395</td>\n",
       "    </tr>\n",
       "    <tr>\n",
       "      <th>std</th>\n",
       "      <td>29882.476174</td>\n",
       "      <td>181.861574</td>\n",
       "      <td>1.385325</td>\n",
       "    </tr>\n",
       "    <tr>\n",
       "      <th>min</th>\n",
       "      <td>1003.000000</td>\n",
       "      <td>0.850000</td>\n",
       "      <td>1.000000</td>\n",
       "    </tr>\n",
       "    <tr>\n",
       "      <th>25%</th>\n",
       "      <td>11310.000000</td>\n",
       "      <td>39.900000</td>\n",
       "      <td>4.000000</td>\n",
       "    </tr>\n",
       "    <tr>\n",
       "      <th>50%</th>\n",
       "      <td>24320.000000</td>\n",
       "      <td>74.900000</td>\n",
       "      <td>5.000000</td>\n",
       "    </tr>\n",
       "    <tr>\n",
       "      <th>75%</th>\n",
       "      <td>59054.000000</td>\n",
       "      <td>134.900000</td>\n",
       "      <td>5.000000</td>\n",
       "    </tr>\n",
       "    <tr>\n",
       "      <th>max</th>\n",
       "      <td>99980.000000</td>\n",
       "      <td>6735.000000</td>\n",
       "      <td>5.000000</td>\n",
       "    </tr>\n",
       "  </tbody>\n",
       "</table>\n",
       "</div>"
      ],
      "text/plain": [
       "       customer_zip_code_prefix          price   review_score\n",
       "count             110750.000000  110750.000000  110750.000000\n",
       "mean               35123.682257     120.475691       4.035395\n",
       "std                29882.476174     181.861574       1.385325\n",
       "min                 1003.000000       0.850000       1.000000\n",
       "25%                11310.000000      39.900000       4.000000\n",
       "50%                24320.000000      74.900000       5.000000\n",
       "75%                59054.000000     134.900000       5.000000\n",
       "max                99980.000000    6735.000000       5.000000"
      ]
     },
     "execution_count": 16,
     "metadata": {},
     "output_type": "execute_result"
    }
   ],
   "source": [
    "df_merged.describe()"
   ]
  },
  {
   "cell_type": "code",
   "execution_count": 17,
   "id": "baf3b65c",
   "metadata": {},
   "outputs": [],
   "source": [
    "df_merged.to_parquet(\"order_merges.parquet\")    # préserve le format"
   ]
  },
  {
   "cell_type": "code",
   "execution_count": 18,
   "id": "b440375a",
   "metadata": {},
   "outputs": [],
   "source": [
    "df_merged.to_csv(\"order_merges.csv\")"
   ]
  },
  {
   "cell_type": "markdown",
   "id": "5352130c",
   "metadata": {},
   "source": [
    "# 1.2  Nettoyage des individus\n",
    "1) éliminer orders avec status canceled \n",
    "2) éliminer orders avec date d'achat manquante \n",
    "3) manquants, doublons, invalide, outliers"
   ]
  },
  {
   "cell_type": "code",
   "execution_count": 19,
   "id": "b859c182",
   "metadata": {},
   "outputs": [
    {
     "data": {
      "image/png": "[encoded data removed]",
      "text/plain": [
       "<Figure size 640x480 with 1 Axes>"
      ]
     },
     "metadata": {},
     "output_type": "display_data"
    }
   ],
   "source": [
    "# Calculate the percentages\n",
    "canceled_pct = 100*df_merged['order_status'].apply(lambda x: (x == 'canceled')).sum() / len(df_merged)\n",
    "missing_date_pct = 100*df_merged['order_purchase_timestamp'].isnull().sum() / len(df_merged)\n",
    "missing_price_pct = 100*df_merged['price'].isnull().sum() / len(df_merged)\n",
    "missing_review_pct = 100*df_merged['review_score'].isnull().sum() / len(df_merged)\n",
    "\n",
    "# Create the bar plot\n",
    "values = [canceled_pct, missing_date_pct, missing_price_pct, missing_review_pct]\n",
    "labels = ['canceled', 'missing date', 'missing price', 'missing review']\n",
    "plt.bar(labels, values)\n",
    "\n",
    "# Add labels and title\n",
    "plt.xlabel('variables')\n",
    "plt.ylabel('% orders')\n",
    "plt.title('% orders à enlever')\n",
    "\n",
    "plt.show()"
   ]
  },
  {
   "cell_type": "code",
   "execution_count": 20,
   "id": "ab4c8753",
   "metadata": {},
   "outputs": [],
   "source": [
    "data_1 = df_merged.drop(df_merged[df_merged['order_status'] == \"canceled\"].index)"
   ]
  },
  {
   "cell_type": "code",
   "execution_count": 21,
   "id": "9e466e9f",
   "metadata": {},
   "outputs": [
    {
     "data": {
      "text/plain": [
       "(110237, 17)"
      ]
     },
     "execution_count": 21,
     "metadata": {},
     "output_type": "execute_result"
    }
   ],
   "source": [
    "data_1.shape"
   ]
  },
  {
   "cell_type": "markdown",
   "id": "bcc96d5d",
   "metadata": {},
   "source": [
    "# 1.3  Nettoyage des variables \n",
    "1) customer info:  zip, state, customer_id (unique for each order)\n",
    "2) colonnes used for merge:  product_id, seller_id, product_category_name, review_id, "
   ]
  },
  {
   "cell_type": "code",
   "execution_count": 23,
   "id": "21599070",
   "metadata": {},
   "outputs": [],
   "source": [
    "variable_remove = ['customer_state', 'customer_zip_code_prefix', 'customer_id', 'product_id', 'seller_id', \\\n",
    "                   'product_category_name', 'review_id', 'order_status', 'customer_city', 'order_id', 'review_creation_date', \\\n",
    "                  'seller_city', 'product_category_name_english']"
   ]
  },
  {
   "cell_type": "code",
   "execution_count": 24,
   "id": "5b630ea3",
   "metadata": {},
   "outputs": [],
   "source": [
    "data_2 = data_1.drop(columns = variable_remove)"
   ]
  },
  {
   "cell_type": "code",
   "execution_count": 25,
   "id": "6534b6c2",
   "metadata": {},
   "outputs": [
    {
     "data": {
      "text/plain": [
       "(110237, 4)"
      ]
     },
     "execution_count": 25,
     "metadata": {},
     "output_type": "execute_result"
    }
   ],
   "source": [
    "data_2.shape"
   ]
  },
  {
   "cell_type": "code",
   "execution_count": 26,
   "id": "c04dc501",
   "metadata": {},
   "outputs": [
    {
     "data": {
      "text/plain": [
       "11456"
      ]
     },
     "execution_count": 26,
     "metadata": {},
     "output_type": "execute_result"
    }
   ],
   "source": [
    "data_2.duplicated().sum()"
   ]
  },
  {
   "cell_type": "code",
   "execution_count": 27,
   "id": "5cee4243",
   "metadata": {},
   "outputs": [],
   "source": [
    "data_2.drop_duplicates(inplace=True)\n",
    "data_2.dropna(inplace=True)"
   ]
  },
  {
   "cell_type": "code",
   "execution_count": 28,
   "id": "5f764928",
   "metadata": {},
   "outputs": [
    {
     "data": {
      "text/plain": [
       "(98781, 4)"
      ]
     },
     "execution_count": 28,
     "metadata": {},
     "output_type": "execute_result"
    }
   ],
   "source": [
    "data_2.shape"
   ]
  },
  {
   "cell_type": "code",
   "execution_count": 29,
   "id": "5fdd35d8",
   "metadata": {},
   "outputs": [],
   "source": [
    "data_2.to_csv(\"data.csv\")"
   ]
  },
  {
   "cell_type": "code",
   "execution_count": 30,
   "id": "e98a07a6",
   "metadata": {},
   "outputs": [
    {
     "data": {
      "text/plain": [
       "5786"
      ]
     },
     "execution_count": 30,
     "metadata": {},
     "output_type": "execute_result"
    }
   ],
   "source": [
    "data_2['customer_unique_id'].duplicated().sum()"
   ]
  },
  {
   "cell_type": "code",
   "execution_count": null,
   "id": "2f7e2e09",
   "metadata": {},
   "outputs": [],
   "source": []
  },
  {
   "cell_type": "code",
   "execution_count": null,
   "id": "61cd2378",
   "metadata": {},
   "outputs": [],
   "source": []
  },
  {
   "cell_type": "code",
   "execution_count": null,
   "id": "d9d69dbb",
   "metadata": {},
   "outputs": [],
   "source": []
  }
 ],
 "metadata": {
  "kernelspec": {
   "display_name": "Python 3 (ipykernel)",
   "language": "python",
   "name": "python3"
  },
  "language_info": {
   "codemirror_mode": {
    "name": "ipython",
    "version": 3
   },
   "file_extension": ".py",
   "mimetype": "text/x-python",
   "name": "python",
   "nbconvert_exporter": "python",
   "pygments_lexer": "ipython3",
   "version": "3.9.13"
  }
 },
 "nbformat": 4,
 "nbformat_minor": 5
}
